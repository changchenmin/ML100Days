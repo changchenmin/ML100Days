{
 "cells": [
  {
   "cell_type": "markdown",
   "metadata": {},
   "source": [
    "## [作業目標]\n",
    "了解機器學習適合應用的領域與範疇。"
   ]
  },
  {
   "cell_type": "markdown",
   "metadata": {},
   "source": [
    "## [作業重點]\n",
    "透過瞭解機器學習的運作方式，找出非常適用機器學習應用的領域及其原因"
   ]
  },
  {
   "cell_type": "markdown",
   "metadata": {},
   "source": [
    "## 作業\n",
    "請找出一個你認為機器學習可以發光發熱的領域並闡述原因? "
   ]
  },
  {
   "cell_type": "markdown",
   "metadata": {},
   "source": [
    "在各產業皆數位化程度越來越高的情況下，藉由大量且即時的分析數據已經越來越重要，機器學習將可輔助產業中，較低階的勞力密集工作項目，來提高其效率與準確率，譬如機器學習中的監督式學習中的影像分類，在各個產業上皆有其應用上的需求。像是在很多產業中，有需多項目皆是依靠人眼的判斷來進行分類，如醫生看X光片來判斷疾病、郵件透過郵遞區號來進行分類配送等應用，因此藉由機器學習人眼辨識的分類特徵與其特徵的參數，系統將可更精準的減少人為誤差，更迅速的辨識分類，以輔助人類進行更高價值的工作項目。"
   ]
  },
  {
   "cell_type": "code",
   "execution_count": null,
   "metadata": {},
   "outputs": [],
   "source": []
  }
 ],
 "metadata": {
  "kernelspec": {
   "display_name": "Python 3",
   "language": "python",
   "name": "python3"
  },
  "language_info": {
   "codemirror_mode": {
    "name": "ipython",
    "version": 3
   },
   "file_extension": ".py",
   "mimetype": "text/x-python",
   "name": "python",
   "nbconvert_exporter": "python",
   "pygments_lexer": "ipython3",
   "version": "3.7.9"
  }
 },
 "nbformat": 4,
 "nbformat_minor": 2
}
